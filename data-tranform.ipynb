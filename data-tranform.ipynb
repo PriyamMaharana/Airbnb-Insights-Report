{
 "cells": [
  {
   "cell_type": "code",
   "execution_count": 1,
   "metadata": {},
   "outputs": [],
   "source": [
    "import pandas as pd"
   ]
  },
  {
   "cell_type": "code",
   "execution_count": 2,
   "metadata": {},
   "outputs": [],
   "source": [
    "file_path1 = \"listings_chicago_cleaned.csv\"\n",
    "\n",
    "df = pd.read_csv(\n",
    "    file_path1,\n",
    "    encoding=\"utf-8\",              \n",
    "    quotechar='\"',                 \n",
    "    escapechar='\\\\',              \n",
    "    engine=\"python\",              \n",
    "    on_bad_lines='warn'            \n",
    ")"
   ]
  },
  {
   "cell_type": "code",
   "execution_count": 20,
   "metadata": {},
   "outputs": [
    {
     "name": "stdout",
     "output_type": "stream",
     "text": [
      "Transformed dataset saved as 'listings_chicago_transformed.csv'\n"
     ]
    }
   ],
   "source": [
    "df['last_review'] = pd.to_datetime(df['last_review'], errors='coerce')\n",
    "\n",
    "df['review_year'] = df['last_review'].dt.year\n",
    "df['review_month'] = df['last_review'].dt.month\n",
    "\n",
    "df['has_license'] = df['license'].notnull().astype(int)\n",
    "\n",
    "df['has_reviews'] = (df['number_of_reviews'] > 0).astype(int)\n",
    "\n",
    "df['room_type_simple'] = df['room_type'].replace({\n",
    "    'Entire home/apt': 'Entire',\n",
    "    'Private room': 'Private',\n",
    "    'Shared room': 'Shared',\n",
    "    'Hotel room': 'Hotel'\n",
    "})\n",
    "\n",
    "df['city'] = \"Chicago\"\n",
    "\n",
    "# Save transformed dataset\n",
    "df.to_csv(\"listings_chicago_transformed.csv\", index=False)\n",
    "print(\"Transformed dataset saved as 'listings_chicago_transformed.csv'\")"
   ]
  },
  {
   "cell_type": "code",
   "execution_count": 23,
   "metadata": {},
   "outputs": [],
   "source": [
    "file_path2 = \"listings_new_orleans_cleaned.csv\"\n",
    "df2 = pd.read_csv(\n",
    "    file_path2,\n",
    "    encoding=\"utf-8\",              \n",
    "    quotechar='\"',                 \n",
    "    escapechar='\\\\',              \n",
    "    engine=\"python\",              \n",
    "    on_bad_lines='warn'            \n",
    ")"
   ]
  },
  {
   "cell_type": "code",
   "execution_count": 24,
   "metadata": {},
   "outputs": [
    {
     "name": "stdout",
     "output_type": "stream",
     "text": [
      "Transformed dataset saved as 'listings_new_orleans_transformed.csv'\n"
     ]
    }
   ],
   "source": [
    "df2['last_review'] = pd.to_datetime(df2['last_review'], errors='coerce')\n",
    "\n",
    "df2['review_year'] = df2['last_review'].dt.year\n",
    "df2['review_month'] = df2['last_review'].dt.month\n",
    "\n",
    "df2['has_license'] = df2['license'].notnull().astype(int)\n",
    "\n",
    "df2['has_reviews'] = (df2['number_of_reviews'] > 0).astype(int)\n",
    "\n",
    "df2['room_type_simple'] = df2['room_type'].replace({\n",
    "    'Entire home/apt': 'Entire',\n",
    "    'Private room': 'Private',\n",
    "    'Shared room': 'Shared',\n",
    "    'Hotel room': 'Hotel'\n",
    "})\n",
    "\n",
    "df2['city'] = \"New Orleans\"\n",
    "\n",
    "# Save transformed dataset\n",
    "df2.to_csv(\"listings_new_orleans_transformed.csv\", index=False)\n",
    "print(\"Transformed dataset saved as 'listings_new_orleans_transformed.csv'\")"
   ]
  },
  {
   "cell_type": "code",
   "execution_count": 27,
   "metadata": {},
   "outputs": [
    {
     "name": "stderr",
     "output_type": "stream",
     "text": [
      "C:\\Users\\Priyam Maharana\\AppData\\Local\\Temp\\ipykernel_10992\\3304775095.py:6: FutureWarning: DataFrame.applymap has been deprecated. Use DataFrame.map instead.\n",
      "  return df.applymap(lambda x: x.replace('\\n', ' ').replace('\\r', ' ') if isinstance(x, str) else x)\n"
     ]
    }
   ],
   "source": [
    "# combine dataset for both city\n",
    "df_chicago = pd.read_csv(\"listings_chicago_transformed.csv\", engine='python', on_bad_lines='skip')\n",
    "df_nola = pd.read_csv(\"listings_new_orleans_transformed.csv\", engine='python', on_bad_lines='skip')\n",
    "\n",
    "def clean_text_columns(df):\n",
    "    return df.applymap(lambda x: x.replace('\\n', ' ').replace('\\r', ' ') if isinstance(x, str) else x)\n",
    "\n",
    "# Apply cleaning\n",
    "df_chicago = clean_text_columns(df_chicago)\n",
    "df_nola = clean_text_columns(df_nola)\n",
    "combine_df = pd.concat([df_chicago, df_nola], ignore_index=True)\n",
    "\n",
    "combine_df.to_csv('combined_airbnb_data.csv')"
   ]
  },
  {
   "cell_type": "code",
   "execution_count": 28,
   "metadata": {},
   "outputs": [
    {
     "name": "stdout",
     "output_type": "stream",
     "text": [
      "Missing Percent: \n",
      "license      25.071313\n",
      "host_name     0.031006\n",
      "dtype: float64\n",
      "\n",
      "Count null rows: \n",
      "license      4043\n",
      "host_name       5\n",
      "dtype: int64\n",
      "\n",
      "Duplicate rows: 0\n"
     ]
    }
   ],
   "source": [
    "missing_percent = combine_df.isnull().mean() * 100\n",
    "missing_percent = missing_percent[missing_percent > 0].sort_values(ascending=False)\n",
    "print(f\"Missing Percent: \\n{missing_percent}\")\n",
    "\n",
    "# Check total null rows\n",
    "null_count = combine_df.isnull().sum()\n",
    "null_count = null_count[null_count > 0].sort_values(ascending=False)\n",
    "print(f\"\\nCount null rows: \\n{null_count}\")\n",
    "\n",
    "# Check total duplicate rows\n",
    "duplicate_count = combine_df.duplicated().sum()\n",
    "print(f\"\\nDuplicate rows: {duplicate_count}\")"
   ]
  },
  {
   "cell_type": "code",
   "execution_count": null,
   "metadata": {},
   "outputs": [],
   "source": []
  },
  {
   "cell_type": "code",
   "execution_count": null,
   "metadata": {},
   "outputs": [],
   "source": []
  }
 ],
 "metadata": {
  "kernelspec": {
   "display_name": "Python 3",
   "language": "python",
   "name": "python3"
  },
  "language_info": {
   "codemirror_mode": {
    "name": "ipython",
    "version": 3
   },
   "file_extension": ".py",
   "mimetype": "text/x-python",
   "name": "python",
   "nbconvert_exporter": "python",
   "pygments_lexer": "ipython3",
   "version": "3.9.13"
  }
 },
 "nbformat": 4,
 "nbformat_minor": 2
}
